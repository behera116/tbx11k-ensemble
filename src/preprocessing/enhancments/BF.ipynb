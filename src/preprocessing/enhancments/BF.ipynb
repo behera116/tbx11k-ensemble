{
 "cells": [
  {
   "cell_type": "code",
   "execution_count": 1,
   "id": "f61ae7f5",
   "metadata": {},
   "outputs": [],
   "source": [
    "import tensorflow as tf\n",
    "from tensorflow import keras\n",
    "from tensorflow.keras.applications import EfficientNetB0\n",
    "from keras.models import *\n",
    "from keras.layers import *\n",
    "from keras.optimizers import *\n",
    "from keras.optimizers import adam_v2\n",
    "from keras import backend as keras\n",
    "from keras.preprocessing.image import ImageDataGenerator\n",
    "from keras.callbacks import ModelCheckpoint, LearningRateScheduler\n",
    "\n",
    "import cv2\n",
    "from cv2 import imread, createCLAHE # read and equalize images\n",
    "\n",
    "import pandas as pd # data processing, CSV file I/O (e.g. pd.read_csv)\n",
    "import numpy as np\n",
    "from skimage.util import montage as montage2d\n",
    "\n",
    "import os\n",
    "from glob import glob\n",
    "from tqdm import tqdm\n",
    "%matplotlib inline\n",
    "import matplotlib.pyplot as plt"
   ]
  },
  {
   "cell_type": "code",
   "execution_count": 2,
   "id": "6a053eb5",
   "metadata": {},
   "outputs": [],
   "source": [
    "!mkdir /home/TBX11K/BF\n",
    "\n",
    "!mkdir /home/TBX11K/BF/train\n",
    "!mkdir /home/TBX11K/BF/val\n",
    "!mkdir /home/TBX11K/BF/test\n",
    "\n",
    "!mkdir /home/TBX11K/BF/train/sick\n",
    "!mkdir /home/TBX11K/BF/train/health\n",
    "!mkdir /home/TBX11K/BF/train/tb\n",
    "\n",
    "!mkdir /home/TBX11K/BF/val/sick\n",
    "!mkdir /home/TBX11K/BF/val/health\n",
    "!mkdir /home/TBX11K/BF/val/tb\n",
    "\n",
    "\n",
    "!mkdir /home/TBX11K/BF/test/Montgomery\n",
    "!mkdir /home/TBX11K/BF/test/Montgomery/health\n",
    "!mkdir /home/TBX11K/BF/test/Montgomery/tb\n",
    "!mkdir /home/TBX11K/BF/test/Montgomery/sick\n",
    "\n",
    "!mkdir /home/TBX11K/BF/test/Shenzhen\n",
    "!mkdir /home/TBX11K/BF/test/Shenzhen/health\n",
    "!mkdir /home/TBX11K/BF/test/Shenzhen/tb\n",
    "!mkdir /home/TBX11K/BF/test/Shenzhen/sick"
   ]
  },
  {
   "cell_type": "code",
   "execution_count": 2,
   "id": "c624bbc2",
   "metadata": {},
   "outputs": [],
   "source": [
    "!mkdir /home/TBX11K/BF/test/DA_DB\n",
    "!mkdir /home/TBX11K/BF/test/DA_DB/health\n",
    "!mkdir /home/TBX11K/BF/test/DA_DB/tb\n",
    "!mkdir /home/TBX11K/BF/test/DA_DB/sick"
   ]
  },
  {
   "cell_type": "code",
   "execution_count": 3,
   "id": "ca70b631",
   "metadata": {},
   "outputs": [],
   "source": [
    "from multiprocessing import Pool\n",
    "\n",
    "def process_clahe(res):\n",
    "    filename = res['filename']\n",
    "    dest_file = res['dest_file']\n",
    "    \n",
    "    image = cv2.imread(filename,cv2.IMREAD_GRAYSCALE)\n",
    "    bf_image = cv2.bilateralFilter(image, 9, 80, 80)\n",
    "    cv2.imwrite(dest_file,bf_image)\n",
    "    return True\n",
    "\n",
    "def process_image_files(img_files,dest_dir):\n",
    "    res = []\n",
    "    for filename in img_files:\n",
    "        dest_file = os.path.join(dest_dir,os.path.basename(filename))\n",
    "        row = {'filename':filename,'dest_file':dest_file}\n",
    "        res.append(row)\n",
    "    \n",
    "    workers = os.cpu_count()\n",
    "    with Pool(workers) as p:\n",
    "        p.map(process_clahe, res)  "
   ]
  },
  {
   "cell_type": "code",
   "execution_count": 6,
   "id": "2fc50c2f",
   "metadata": {},
   "outputs": [],
   "source": [
    "TBX_DIR = '/home/TBX11K'\n",
    "TBX_DEST_DIR = '/home/TBX11K/BF'\n",
    "for split_dir in ['train','val']:\n",
    "    for class_dir in ['health','sick','tb']:\n",
    "        file_path = os.path.join(TBX_DIR,split_dir,class_dir,'*.png')\n",
    "        img_files = glob(file_path)\n",
    "        dest_dir = os.path.join(TBX_DEST_DIR,split_dir,class_dir)\n",
    "        #dest_file = os.path.join(dest_dir,os.path.basename(img_file))\n",
    "        #process_clahe({'filename':img_file,'dest_file':dest_file})\n",
    "        process_image_files(img_files,dest_dir)\n",
    "        "
   ]
  },
  {
   "cell_type": "code",
   "execution_count": 7,
   "id": "d9dc8feb",
   "metadata": {},
   "outputs": [],
   "source": [
    "TBX_DIR_TEST = '/home/TBX11K/test'\n",
    "TBX_DEST_DIR_TEST = '/home/TBX11K/BF/test'\n",
    "for split_dir in ['Montgomery','Shenzhen']:\n",
    "    for class_dir in ['health','sick','tb']:\n",
    "        file_path = os.path.join(TBX_DIR_TEST,split_dir,class_dir,'*.png')\n",
    "        img_files = glob(file_path)\n",
    "        dest_dir = os.path.join(TBX_DEST_DIR_TEST,split_dir,class_dir)\n",
    "        \n",
    "        #dest_file = os.path.join(dest_dir,os.path.basename(img_files[0]))\n",
    "        #print(img_files[0],dest_file)\n",
    "        #break\n",
    "        #process_clahe({'filename':img_file,'dest_file':dest_file})\n",
    "        process_image_files(img_files,dest_dir)"
   ]
  },
  {
   "cell_type": "code",
   "execution_count": 4,
   "id": "75b73e07",
   "metadata": {},
   "outputs": [],
   "source": [
    "TBX_DIR_TEST = '/home/TBX11K/test'\n",
    "TBX_DEST_DIR_TEST = '/home/TBX11K/BF/test'\n",
    "for split_dir in ['DA_DB']:\n",
    "    for class_dir in ['tb']:\n",
    "        file_path = os.path.join(TBX_DIR_TEST,split_dir,class_dir,'*.png')\n",
    "        img_files = glob(file_path)\n",
    "        dest_dir = os.path.join(TBX_DEST_DIR_TEST,split_dir,class_dir)\n",
    "        \n",
    "        #dest_file = os.path.join(dest_dir,os.path.basename(img_files[0]))\n",
    "        #print(img_files[0],dest_file)\n",
    "        #break\n",
    "        #process_clahe({'filename':img_file,'dest_file':dest_file})\n",
    "        process_image_files(img_files,dest_dir)"
   ]
  },
  {
   "cell_type": "code",
   "execution_count": null,
   "id": "fb663b96",
   "metadata": {},
   "outputs": [],
   "source": []
  }
 ],
 "metadata": {
  "kernelspec": {
   "display_name": "Python 3 (ipykernel)",
   "language": "python",
   "name": "python3"
  },
  "language_info": {
   "codemirror_mode": {
    "name": "ipython",
    "version": 3
   },
   "file_extension": ".py",
   "mimetype": "text/x-python",
   "name": "python",
   "nbconvert_exporter": "python",
   "pygments_lexer": "ipython3",
   "version": "3.8.10"
  }
 },
 "nbformat": 4,
 "nbformat_minor": 5
}
